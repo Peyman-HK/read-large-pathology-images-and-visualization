{
 "cells": [
  {
   "cell_type": "code",
   "execution_count": 1,
   "id": "6c2ae99e",
   "metadata": {},
   "outputs": [
    {
     "data": {
      "text/html": [
       "<div>\n",
       "<style scoped>\n",
       "    .dataframe tbody tr th:only-of-type {\n",
       "        vertical-align: middle;\n",
       "    }\n",
       "\n",
       "    .dataframe tbody tr th {\n",
       "        vertical-align: top;\n",
       "    }\n",
       "\n",
       "    .dataframe thead th {\n",
       "        text-align: right;\n",
       "    }\n",
       "</style>\n",
       "<table border=\"1\" class=\"dataframe\">\n",
       "  <thead>\n",
       "    <tr style=\"text-align: right;\">\n",
       "      <th></th>\n",
       "      <th>FFPE ID</th>\n",
       "      <th>Gender</th>\n",
       "      <th>cT</th>\n",
       "      <th>Disease Status</th>\n",
       "      <th>NMIBC or MIBC</th>\n",
       "      <th>Death</th>\n",
       "      <th>Background</th>\n",
       "      <th>Neoplastic</th>\n",
       "      <th>Inflammatory</th>\n",
       "      <th>Connective</th>\n",
       "      <th>Dead</th>\n",
       "      <th>Non-Neoplastic Epithelial</th>\n",
       "    </tr>\n",
       "  </thead>\n",
       "  <tbody>\n",
       "    <tr>\n",
       "      <th>0</th>\n",
       "      <td>H20-03552</td>\n",
       "      <td>Male</td>\n",
       "      <td>T4</td>\n",
       "      <td>Recurred/Progressed</td>\n",
       "      <td>MIBC</td>\n",
       "      <td>Yes</td>\n",
       "      <td>0.035126</td>\n",
       "      <td>0.115604</td>\n",
       "      <td>0.174675</td>\n",
       "      <td>0.590592</td>\n",
       "      <td>0.076008</td>\n",
       "      <td>0.007994</td>\n",
       "    </tr>\n",
       "    <tr>\n",
       "      <th>1</th>\n",
       "      <td>H20-08344</td>\n",
       "      <td>Female</td>\n",
       "      <td>T3b</td>\n",
       "      <td>Recurred/Progressed</td>\n",
       "      <td>MIBC</td>\n",
       "      <td>Yes</td>\n",
       "      <td>0.024836</td>\n",
       "      <td>0.214179</td>\n",
       "      <td>0.287628</td>\n",
       "      <td>0.311495</td>\n",
       "      <td>0.141787</td>\n",
       "      <td>0.020076</td>\n",
       "    </tr>\n",
       "    <tr>\n",
       "      <th>2</th>\n",
       "      <td>H20-09882</td>\n",
       "      <td>Male</td>\n",
       "      <td>T2</td>\n",
       "      <td>Disease Free</td>\n",
       "      <td>MIBC</td>\n",
       "      <td>No</td>\n",
       "      <td>0.017091</td>\n",
       "      <td>0.283995</td>\n",
       "      <td>0.203881</td>\n",
       "      <td>0.423131</td>\n",
       "      <td>0.024633</td>\n",
       "      <td>0.047269</td>\n",
       "    </tr>\n",
       "    <tr>\n",
       "      <th>3</th>\n",
       "      <td>H20-07099</td>\n",
       "      <td>Male</td>\n",
       "      <td>T4</td>\n",
       "      <td>Disease Free</td>\n",
       "      <td>NMIBC</td>\n",
       "      <td>No</td>\n",
       "      <td>0.019517</td>\n",
       "      <td>0.363808</td>\n",
       "      <td>0.177461</td>\n",
       "      <td>0.319945</td>\n",
       "      <td>0.050319</td>\n",
       "      <td>0.068949</td>\n",
       "    </tr>\n",
       "    <tr>\n",
       "      <th>4</th>\n",
       "      <td>H20-06703</td>\n",
       "      <td>Male</td>\n",
       "      <td>T2</td>\n",
       "      <td>Disease Free</td>\n",
       "      <td>MIBC</td>\n",
       "      <td>No</td>\n",
       "      <td>0.024698</td>\n",
       "      <td>0.144706</td>\n",
       "      <td>0.253107</td>\n",
       "      <td>0.480551</td>\n",
       "      <td>0.038536</td>\n",
       "      <td>0.058402</td>\n",
       "    </tr>\n",
       "  </tbody>\n",
       "</table>\n",
       "</div>"
      ],
      "text/plain": [
       "     FFPE ID  Gender   cT       Disease Status NMIBC or MIBC Death  \\\n",
       "0  H20-03552    Male   T4  Recurred/Progressed          MIBC   Yes   \n",
       "1  H20-08344  Female  T3b  Recurred/Progressed          MIBC   Yes   \n",
       "2  H20-09882    Male   T2         Disease Free          MIBC    No   \n",
       "3  H20-07099    Male   T4         Disease Free         NMIBC    No   \n",
       "4  H20-06703    Male   T2         Disease Free          MIBC    No   \n",
       "\n",
       "   Background  Neoplastic  Inflammatory  Connective      Dead  \\\n",
       "0    0.035126    0.115604      0.174675    0.590592  0.076008   \n",
       "1    0.024836    0.214179      0.287628    0.311495  0.141787   \n",
       "2    0.017091    0.283995      0.203881    0.423131  0.024633   \n",
       "3    0.019517    0.363808      0.177461    0.319945  0.050319   \n",
       "4    0.024698    0.144706      0.253107    0.480551  0.038536   \n",
       "\n",
       "   Non-Neoplastic Epithelial  \n",
       "0                   0.007994  \n",
       "1                   0.020076  \n",
       "2                   0.047269  \n",
       "3                   0.068949  \n",
       "4                   0.058402  "
      ]
     },
     "execution_count": 1,
     "metadata": {},
     "output_type": "execute_result"
    }
   ],
   "source": [
    "import pandas as pd\n",
    "\n",
    "df = pd.read_csv('HoverNet_Project1.csv',header = 0)\n",
    "df.head(5)\n"
   ]
  },
  {
   "cell_type": "code",
   "execution_count": 2,
   "id": "c07b34bf",
   "metadata": {},
   "outputs": [
    {
     "data": {
      "text/html": [
       "<div>\n",
       "<style scoped>\n",
       "    .dataframe tbody tr th:only-of-type {\n",
       "        vertical-align: middle;\n",
       "    }\n",
       "\n",
       "    .dataframe tbody tr th {\n",
       "        vertical-align: top;\n",
       "    }\n",
       "\n",
       "    .dataframe thead th {\n",
       "        text-align: right;\n",
       "    }\n",
       "</style>\n",
       "<table border=\"1\" class=\"dataframe\">\n",
       "  <thead>\n",
       "    <tr style=\"text-align: right;\">\n",
       "      <th></th>\n",
       "      <th>FFPE ID</th>\n",
       "      <th>Gender</th>\n",
       "      <th>cT</th>\n",
       "      <th>Disease Status</th>\n",
       "      <th>NMIBC or MIBC</th>\n",
       "      <th>Death</th>\n",
       "      <th>Background</th>\n",
       "      <th>Neoplastic</th>\n",
       "      <th>Inflammatory</th>\n",
       "      <th>Connective</th>\n",
       "      <th>Dead</th>\n",
       "      <th>Non-Neoplastic Epithelial</th>\n",
       "    </tr>\n",
       "  </thead>\n",
       "  <tbody>\n",
       "    <tr>\n",
       "      <th>2</th>\n",
       "      <td>H20-09882</td>\n",
       "      <td>Male</td>\n",
       "      <td>T2</td>\n",
       "      <td>Disease Free</td>\n",
       "      <td>MIBC</td>\n",
       "      <td>No</td>\n",
       "      <td>0.017091</td>\n",
       "      <td>0.283995</td>\n",
       "      <td>0.203881</td>\n",
       "      <td>0.423131</td>\n",
       "      <td>0.024633</td>\n",
       "      <td>0.047269</td>\n",
       "    </tr>\n",
       "    <tr>\n",
       "      <th>3</th>\n",
       "      <td>H20-07099</td>\n",
       "      <td>Male</td>\n",
       "      <td>T4</td>\n",
       "      <td>Disease Free</td>\n",
       "      <td>NMIBC</td>\n",
       "      <td>No</td>\n",
       "      <td>0.019517</td>\n",
       "      <td>0.363808</td>\n",
       "      <td>0.177461</td>\n",
       "      <td>0.319945</td>\n",
       "      <td>0.050319</td>\n",
       "      <td>0.068949</td>\n",
       "    </tr>\n",
       "    <tr>\n",
       "      <th>4</th>\n",
       "      <td>H20-06703</td>\n",
       "      <td>Male</td>\n",
       "      <td>T2</td>\n",
       "      <td>Disease Free</td>\n",
       "      <td>MIBC</td>\n",
       "      <td>No</td>\n",
       "      <td>0.024698</td>\n",
       "      <td>0.144706</td>\n",
       "      <td>0.253107</td>\n",
       "      <td>0.480551</td>\n",
       "      <td>0.038536</td>\n",
       "      <td>0.058402</td>\n",
       "    </tr>\n",
       "    <tr>\n",
       "      <th>6</th>\n",
       "      <td>H20-05805</td>\n",
       "      <td>Male</td>\n",
       "      <td>T2</td>\n",
       "      <td>Disease Free</td>\n",
       "      <td>MIBC</td>\n",
       "      <td>No</td>\n",
       "      <td>0.027860</td>\n",
       "      <td>0.148682</td>\n",
       "      <td>0.281778</td>\n",
       "      <td>0.395329</td>\n",
       "      <td>0.123719</td>\n",
       "      <td>0.022632</td>\n",
       "    </tr>\n",
       "    <tr>\n",
       "      <th>10</th>\n",
       "      <td>H18-12847</td>\n",
       "      <td>Male</td>\n",
       "      <td>Tis</td>\n",
       "      <td>Disease Free</td>\n",
       "      <td>MIBC</td>\n",
       "      <td>No</td>\n",
       "      <td>0.019676</td>\n",
       "      <td>0.268491</td>\n",
       "      <td>0.343554</td>\n",
       "      <td>0.177195</td>\n",
       "      <td>0.026117</td>\n",
       "      <td>0.164967</td>\n",
       "    </tr>\n",
       "  </tbody>\n",
       "</table>\n",
       "</div>"
      ],
      "text/plain": [
       "      FFPE ID Gender   cT Disease Status NMIBC or MIBC Death  Background  \\\n",
       "2   H20-09882   Male   T2   Disease Free          MIBC    No    0.017091   \n",
       "3   H20-07099   Male   T4   Disease Free         NMIBC    No    0.019517   \n",
       "4   H20-06703   Male   T2   Disease Free          MIBC    No    0.024698   \n",
       "6   H20-05805   Male   T2   Disease Free          MIBC    No    0.027860   \n",
       "10  H18-12847   Male  Tis   Disease Free          MIBC    No    0.019676   \n",
       "\n",
       "    Neoplastic  Inflammatory  Connective      Dead  Non-Neoplastic Epithelial  \n",
       "2     0.283995      0.203881    0.423131  0.024633                   0.047269  \n",
       "3     0.363808      0.177461    0.319945  0.050319                   0.068949  \n",
       "4     0.144706      0.253107    0.480551  0.038536                   0.058402  \n",
       "6     0.148682      0.281778    0.395329  0.123719                   0.022632  \n",
       "10    0.268491      0.343554    0.177195  0.026117                   0.164967  "
      ]
     },
     "execution_count": 2,
     "metadata": {},
     "output_type": "execute_result"
    }
   ],
   "source": [
    "dfa = df.loc[df['Death'] == 'Yes'] \n",
    "dfb = df.loc[df['Death'] == 'No'] \n",
    "dfb.head(5)"
   ]
  },
  {
   "cell_type": "code",
   "execution_count": 3,
   "id": "62b95894",
   "metadata": {},
   "outputs": [],
   "source": [
    "import numpy as np\n",
    "dfa1 = dfa[[\"Background\",\"Neoplastic\",\"Inflammatory\",\"Connective\",\"Dead\",\"Non-Neoplastic Epithelial\"]]\n",
    "dfb1 = dfb[[\"Background\",\"Neoplastic\",\"Inflammatory\",\"Connective\",\"Dead\",\"Non-Neoplastic Epithelial\"]]"
   ]
  },
  {
   "cell_type": "code",
   "execution_count": 4,
   "id": "e190ce14",
   "metadata": {},
   "outputs": [],
   "source": [
    "\n",
    "Backgrounda = list(dfa1[\"Background\"])\n",
    "Neoplastica = list(dfa1[\"Neoplastic\"])\n",
    "Inflammatorya = list(dfa1[\"Inflammatory\"])\n",
    "Connectivea = list(dfa1[\"Connective\"])\n",
    "Deada = list(dfa1[\"Dead\"])\n",
    "Non_Neoa = list(dfa1[\"Non-Neoplastic Epithelial\"])\n",
    "\n",
    "\n",
    "Background = list(dfb1[\"Background\"])\n",
    "Neoplastic = list(dfb1[\"Neoplastic\"])\n",
    "Inflammatory = list(dfb1[\"Inflammatory\"])\n",
    "Connective = list(dfb1[\"Connective\"])\n",
    "Dead = list(dfb1[\"Dead\"])\n",
    "Non_Neo = list(dfb1[\"Non-Neoplastic Epithelial\"])  \n",
    "\n",
    "data_a = [Backgrounda,Neoplastica,Inflammatorya,Connectivea,Deada,Non_Neoa]\n",
    "data_b = [Background,Neoplastic,Inflammatory,Connective,Dead,Non_Neo]"
   ]
  },
  {
   "cell_type": "code",
   "execution_count": 7,
   "id": "6171093c",
   "metadata": {},
   "outputs": [
    {
     "data": {
      "text/plain": [
       "(6, 20)"
      ]
     },
     "execution_count": 7,
     "metadata": {},
     "output_type": "execute_result"
    }
   ],
   "source": [
    "np.array(data_b).shape"
   ]
  },
  {
   "cell_type": "code",
   "execution_count": null,
   "id": "145d388d",
   "metadata": {},
   "outputs": [],
   "source": [
    "data_a"
   ]
  },
  {
   "cell_type": "code",
   "execution_count": 8,
   "id": "d36ea5f8",
   "metadata": {},
   "outputs": [
    {
     "data": {
      "image/png": "[encoded data removed]",
      "text/plain": [
       "<Figure size 864x504 with 1 Axes>"
      ]
     },
     "metadata": {
      "needs_background": "light"
     },
     "output_type": "display_data"
    }
   ],
   "source": [
    "import matplotlib.pyplot as plt\n",
    "import numpy as np\n",
    "fig = plt.figure(figsize =(12, 7))\n",
    "\n",
    "#data_a = [[1127, 26388, 64105, 5145], [9719, 250285, 415186, 96489],[13052, 157912, 1302561, 152272], \n",
    "          #[14135, 305969, 698181, 90426], [6434, 64623, 104793, 24666], [911, 3216, 84833, 12239]]\n",
    "#data_b = [[6,4,2], [1,2,5,3,2], [2,3,5,1], [7,2,5], [7,2,5], [7,2,5]]\n",
    "\n",
    "ticks = ['Background',  'Neoplastic',  'Inflammatory',  'Connective',   'Dead', 'Non-Neoplastic']\n",
    "\n",
    "def set_box_color(bp, color):\n",
    "    plt.setp(bp['boxes'], color=color)\n",
    "    plt.setp(bp['whiskers'], color=color)\n",
    "    plt.setp(bp['caps'], color=color)\n",
    "    plt.setp(bp['medians'], color=color)\n",
    "\n",
    "bpl = plt.boxplot(data_a, positions=np.array(range(len(data_a)))*2.0-0.4, sym='', widths=0.6)\n",
    "bpr = plt.boxplot(data_b, positions=np.array(range(len(data_b)))*2.0+0.4, sym='', widths=0.6)\n",
    "set_box_color(bpl, '#D7191C') # colors are from http://colorbrewer2.org/\n",
    "set_box_color(bpr, '#2C7BB6')\n",
    "\n",
    "# draw temporary red and blue lines and use them to create a legend\n",
    "plt.plot([], c='#D7191C', label='Dead')\n",
    "plt.plot([], c='#2C7BB6', label='Alive')\n",
    "plt.legend()\n",
    "plt.xticks(range(0, len(ticks) * 2, 2), ticks, fontsize=14)\n",
    "plt.xlim(-2, len(ticks)*2)\n",
    "#plt.ylim(0, 8)\n",
    "plt.ylabel('Normalized counts of cells',fontsize=20)\n",
    "plt.tight_layout()\n",
    "\n",
    "#plt.savefig('boxcompare.png')\n"
   ]
  },
  {
   "cell_type": "markdown",
   "id": "fe0f9293",
   "metadata": {},
   "source": [
    "### make one plot for each cell type and show stages on the x axis. "
   ]
  },
  {
   "cell_type": "code",
   "execution_count": 10,
   "id": "86795747",
   "metadata": {},
   "outputs": [
    {
     "data": {
      "text/html": [
       "<div>\n",
       "<style scoped>\n",
       "    .dataframe tbody tr th:only-of-type {\n",
       "        vertical-align: middle;\n",
       "    }\n",
       "\n",
       "    .dataframe tbody tr th {\n",
       "        vertical-align: top;\n",
       "    }\n",
       "\n",
       "    .dataframe thead th {\n",
       "        text-align: right;\n",
       "    }\n",
       "</style>\n",
       "<table border=\"1\" class=\"dataframe\">\n",
       "  <thead>\n",
       "    <tr style=\"text-align: right;\">\n",
       "      <th></th>\n",
       "      <th>FFPE ID</th>\n",
       "      <th>Gender</th>\n",
       "      <th>cT</th>\n",
       "      <th>Disease Status</th>\n",
       "      <th>NMIBC or MIBC</th>\n",
       "      <th>Death</th>\n",
       "      <th>Background</th>\n",
       "      <th>Neoplastic</th>\n",
       "      <th>Inflammatory</th>\n",
       "      <th>Connective</th>\n",
       "      <th>Dead</th>\n",
       "      <th>Non-Neoplastic Epithelial</th>\n",
       "    </tr>\n",
       "  </thead>\n",
       "  <tbody>\n",
       "    <tr>\n",
       "      <th>10</th>\n",
       "      <td>H18-12847</td>\n",
       "      <td>Male</td>\n",
       "      <td>Tis</td>\n",
       "      <td>Disease Free</td>\n",
       "      <td>MIBC</td>\n",
       "      <td>No</td>\n",
       "      <td>0.019676</td>\n",
       "      <td>0.268491</td>\n",
       "      <td>0.343554</td>\n",
       "      <td>0.177195</td>\n",
       "      <td>0.026117</td>\n",
       "      <td>0.164967</td>\n",
       "    </tr>\n",
       "    <tr>\n",
       "      <th>25</th>\n",
       "      <td>H16-04905</td>\n",
       "      <td>Male</td>\n",
       "      <td>Tis</td>\n",
       "      <td>Disease Free</td>\n",
       "      <td>MIBC</td>\n",
       "      <td>No</td>\n",
       "      <td>0.017939</td>\n",
       "      <td>0.057949</td>\n",
       "      <td>0.254823</td>\n",
       "      <td>0.368612</td>\n",
       "      <td>0.024564</td>\n",
       "      <td>0.276113</td>\n",
       "    </tr>\n",
       "  </tbody>\n",
       "</table>\n",
       "</div>"
      ],
      "text/plain": [
       "      FFPE ID Gender   cT Disease Status NMIBC or MIBC Death  Background  \\\n",
       "10  H18-12847   Male  Tis   Disease Free          MIBC    No    0.019676   \n",
       "25  H16-04905   Male  Tis   Disease Free          MIBC    No    0.017939   \n",
       "\n",
       "    Neoplastic  Inflammatory  Connective      Dead  Non-Neoplastic Epithelial  \n",
       "10    0.268491      0.343554    0.177195  0.026117                   0.164967  \n",
       "25    0.057949      0.254823    0.368612  0.024564                   0.276113  "
      ]
     },
     "execution_count": 10,
     "metadata": {},
     "output_type": "execute_result"
    }
   ],
   "source": [
    "dfa = df.loc[df['cT'] == 'T1'] \n",
    "dfb = df.loc[df['cT'] == 'T2'] \n",
    "dfc = df.loc[df['cT'] == 'T3'] \n",
    "dfd = df.loc[df['cT'] == 'T4'] \n",
    "dfe = df.loc[df['cT'] == 'Tis'] \n",
    "dfe.head(5)"
   ]
  },
  {
   "cell_type": "code",
   "execution_count": 12,
   "id": "b8e7f20f",
   "metadata": {},
   "outputs": [
    {
     "data": {
      "text/html": [
       "<div>\n",
       "<style scoped>\n",
       "    .dataframe tbody tr th:only-of-type {\n",
       "        vertical-align: middle;\n",
       "    }\n",
       "\n",
       "    .dataframe tbody tr th {\n",
       "        vertical-align: top;\n",
       "    }\n",
       "\n",
       "    .dataframe thead th {\n",
       "        text-align: right;\n",
       "    }\n",
       "</style>\n",
       "<table border=\"1\" class=\"dataframe\">\n",
       "  <thead>\n",
       "    <tr style=\"text-align: right;\">\n",
       "      <th></th>\n",
       "      <th>Background</th>\n",
       "    </tr>\n",
       "  </thead>\n",
       "  <tbody>\n",
       "    <tr>\n",
       "      <th>10</th>\n",
       "      <td>0.019676</td>\n",
       "    </tr>\n",
       "    <tr>\n",
       "      <th>25</th>\n",
       "      <td>0.017939</td>\n",
       "    </tr>\n",
       "  </tbody>\n",
       "</table>\n",
       "</div>"
      ],
      "text/plain": [
       "    Background\n",
       "10    0.019676\n",
       "25    0.017939"
      ]
     },
     "execution_count": 12,
     "metadata": {},
     "output_type": "execute_result"
    }
   ],
   "source": [
    "import numpy as np\n",
    "dfa1 = dfa[[\"Background\"]]\n",
    "dfb1 = dfb[[\"Background\"]]\n",
    "dfc1 = dfc[[\"Background\"]]\n",
    "dfd1 = dfd[[\"Background\"]]\n",
    "dfe1 = dfe[[\"Background\"]]\n",
    "dfe1"
   ]
  },
  {
   "cell_type": "code",
   "execution_count": 29,
   "id": "4b846f36",
   "metadata": {},
   "outputs": [
    {
     "data": {
      "text/plain": [
       "[0.019676485, 0.017939168999999998]"
      ]
     },
     "execution_count": 29,
     "metadata": {},
     "output_type": "execute_result"
    }
   ],
   "source": [
    "list(np.array(dfe1.iloc[:, 0]))"
   ]
  },
  {
   "cell_type": "code",
   "execution_count": 34,
   "id": "9fa347f3",
   "metadata": {},
   "outputs": [],
   "source": [
    "\n",
    "T1 = list(np.array(dfa1.iloc[:, 0]))\n",
    "T2 = list(np.array(dfb1.iloc[:, 0]))\n",
    "T3 = list(np.array(dfc1.iloc[:, 0]))\n",
    "T4 = list(np.array(dfd1.iloc[:, 0]))\n",
    "TIS = list(np.array(dfe1.iloc[:, 0]))\n",
    "\n",
    "data_a = [T1,T2,T3,T4,TIS]\n"
   ]
  },
  {
   "cell_type": "code",
   "execution_count": 41,
   "id": "17a22d38",
   "metadata": {},
   "outputs": [],
   "source": [
    "ticks = ['T1',  'T2',  'T3',  'T4',   'Tis']"
   ]
  },
  {
   "cell_type": "code",
   "execution_count": 57,
   "id": "0a892b5a",
   "metadata": {},
   "outputs": [
    {
     "data": {
      "image/png": "[encoded data removed]",
      "text/plain": [
       "<Figure size 720x504 with 1 Axes>"
      ]
     },
     "metadata": {
      "needs_background": "light"
     },
     "output_type": "display_data"
    }
   ],
   "source": [
    "fig = plt.figure(figsize =(10, 7))\n",
    " \n",
    "# Creating axes instance\n",
    "ax = fig.add_axes([0, 0, 1, 1])\n",
    " \n",
    "# Creating plot\n",
    "bp = ax.boxplot(data_a, positions=np.array(range(len(data_a)))*2.0-0.1, sym='', widths=0.6)\n",
    "plt.ylabel(\"Normalized count of cells\", fontsize=22)\n",
    "plt.xlabel(\"Different clinical stages for the cell type Background\", fontsize=16)\n",
    "plt.xticks(range(0, len(ticks) * 2, 2), ticks, fontsize=14)\n",
    "plt.xlim(-2, len(ticks)*2)\n",
    "# show plot\n",
    "plt.show()\n"
   ]
  },
  {
   "cell_type": "code",
   "execution_count": 49,
   "id": "0cd38002",
   "metadata": {},
   "outputs": [
    {
     "data": {
      "text/plain": [
       "5"
      ]
     },
     "execution_count": 49,
     "metadata": {},
     "output_type": "execute_result"
    }
   ],
   "source": [
    "len(ticks)"
   ]
  },
  {
   "cell_type": "code",
   "execution_count": null,
   "id": "257503f0",
   "metadata": {},
   "outputs": [],
   "source": []
  },
  {
   "cell_type": "code",
   "execution_count": 58,
   "id": "c86799a0",
   "metadata": {},
   "outputs": [
    {
     "data": {
      "image/png": "[encoded data removed]",
      "text/plain": [
       "<Figure size 720x504 with 1 Axes>"
      ]
     },
     "metadata": {
      "needs_background": "light"
     },
     "output_type": "display_data"
    }
   ],
   "source": [
    "import numpy as np\n",
    "dfa1 = dfa[[\"Neoplastic\"]]\n",
    "dfb1 = dfb[[\"Neoplastic\"]]\n",
    "dfc1 = dfc[[\"Neoplastic\"]]\n",
    "dfd1 = dfd[[\"Neoplastic\"]]\n",
    "dfe1 = dfe[[\"Neoplastic\"]]\n",
    "dfe1\n",
    "\n",
    "T1 = list(np.array(dfa1.iloc[:, 0]))\n",
    "T2 = list(np.array(dfb1.iloc[:, 0]))\n",
    "T3 = list(np.array(dfc1.iloc[:, 0]))\n",
    "T4 = list(np.array(dfd1.iloc[:, 0]))\n",
    "TIS = list(np.array(dfe1.iloc[:, 0]))\n",
    "\n",
    "data_a = [T1,T2,T3,T4,TIS]\n",
    "fig = plt.figure(figsize =(10, 7))\n",
    " \n",
    "# Creating axes instance\n",
    "ax = fig.add_axes([0, 0, 1, 1])\n",
    " \n",
    "# Creating plot\n",
    "bp = ax.boxplot(data_a, positions=np.array(range(len(data_a)))*2.0-0.1, sym='', widths=0.6)\n",
    "plt.ylabel(\"Normalized count of cells\", fontsize=22)\n",
    "plt.xlabel(\"Different clinical stages for the cell type Neoplastic\", fontsize=16)\n",
    "plt.xticks(range(0, len(ticks) * 2, 2), ticks, fontsize=14)\n",
    "plt.xlim(-2, len(ticks)*2)\n",
    "# show plot\n",
    "plt.show()\n"
   ]
  },
  {
   "cell_type": "code",
   "execution_count": null,
   "id": "e585c83f",
   "metadata": {},
   "outputs": [],
   "source": []
  },
  {
   "cell_type": "code",
   "execution_count": 59,
   "id": "94712e7c",
   "metadata": {},
   "outputs": [
    {
     "data": {
      "image/png": "[encoded data removed]",
      "text/plain": [
       "<Figure size 720x504 with 1 Axes>"
      ]
     },
     "metadata": {
      "needs_background": "light"
     },
     "output_type": "display_data"
    }
   ],
   "source": [
    "import numpy as np\n",
    "dfa1 = dfa[[\"Inflammatory\"]]\n",
    "dfb1 = dfb[[\"Inflammatory\"]]\n",
    "dfc1 = dfc[[\"Inflammatory\"]]\n",
    "dfd1 = dfd[[\"Inflammatory\"]]\n",
    "dfe1 = dfe[[\"Inflammatory\"]]\n",
    "dfe1\n",
    "\n",
    "T1 = list(np.array(dfa1.iloc[:, 0]))\n",
    "T2 = list(np.array(dfb1.iloc[:, 0]))\n",
    "T3 = list(np.array(dfc1.iloc[:, 0]))\n",
    "T4 = list(np.array(dfd1.iloc[:, 0]))\n",
    "TIS = list(np.array(dfe1.iloc[:, 0]))\n",
    "\n",
    "data_a = [T1,T2,T3,T4,TIS]\n",
    "fig = plt.figure(figsize =(10, 7))\n",
    " \n",
    "# Creating axes instance\n",
    "ax = fig.add_axes([0, 0, 1, 1])\n",
    " \n",
    "# Creating plot\n",
    "bp = ax.boxplot(data_a, positions=np.array(range(len(data_a)))*2.0-0.1, sym='', widths=0.6)\n",
    "plt.ylabel(\"Normalized count of cells\", fontsize=22)\n",
    "plt.xlabel(\"Different clinical stages for the cell type Inflammatory\", fontsize=16)\n",
    "plt.xticks(range(0, len(ticks) * 2, 2), ticks, fontsize=14)\n",
    "plt.xlim(-2, len(ticks)*2)\n",
    "# show plot\n",
    "plt.show()\n"
   ]
  },
  {
   "cell_type": "code",
   "execution_count": null,
   "id": "f748e0ab",
   "metadata": {},
   "outputs": [],
   "source": []
  },
  {
   "cell_type": "code",
   "execution_count": 60,
   "id": "aaab6c49",
   "metadata": {},
   "outputs": [
    {
     "data": {
      "image/png": "[encoded data removed]",
      "text/plain": [
       "<Figure size 720x504 with 1 Axes>"
      ]
     },
     "metadata": {
      "needs_background": "light"
     },
     "output_type": "display_data"
    }
   ],
   "source": [
    "import numpy as np\n",
    "dfa1 = dfa[[\"Connective\"]]\n",
    "dfb1 = dfb[[\"Connective\"]]\n",
    "dfc1 = dfc[[\"Connective\"]]\n",
    "dfd1 = dfd[[\"Connective\"]]\n",
    "dfe1 = dfe[[\"Connective\"]]\n",
    "dfe1\n",
    "\n",
    "T1 = list(np.array(dfa1.iloc[:, 0]))\n",
    "T2 = list(np.array(dfb1.iloc[:, 0]))\n",
    "T3 = list(np.array(dfc1.iloc[:, 0]))\n",
    "T4 = list(np.array(dfd1.iloc[:, 0]))\n",
    "TIS = list(np.array(dfe1.iloc[:, 0]))\n",
    "\n",
    "data_a = [T1,T2,T3,T4,TIS]\n",
    "fig = plt.figure(figsize =(10, 7))\n",
    " \n",
    "# Creating axes instance\n",
    "ax = fig.add_axes([0, 0, 1, 1])\n",
    " \n",
    "# Creating plot\n",
    "bp = ax.boxplot(data_a, positions=np.array(range(len(data_a)))*2.0-0.1, sym='', widths=0.6)\n",
    "plt.ylabel(\"Normalized count of cells\", fontsize=22)\n",
    "plt.xlabel(\"Different clinical stages for the cell type Connective\", fontsize=16)\n",
    "plt.xticks(range(0, len(ticks) * 2, 2), ticks, fontsize=14)\n",
    "plt.xlim(-2, len(ticks)*2)\n",
    "# show plot\n",
    "plt.show()\n"
   ]
  },
  {
   "cell_type": "code",
   "execution_count": null,
   "id": "32f5cd11",
   "metadata": {},
   "outputs": [],
   "source": []
  },
  {
   "cell_type": "code",
   "execution_count": 61,
   "id": "c4508ac3",
   "metadata": {},
   "outputs": [
    {
     "data": {
      "image/png": "[encoded data removed]",
      "text/plain": [
       "<Figure size 720x504 with 1 Axes>"
      ]
     },
     "metadata": {
      "needs_background": "light"
     },
     "output_type": "display_data"
    }
   ],
   "source": [
    "import numpy as np\n",
    "dfa1 = dfa[[\"Dead\"]]\n",
    "dfb1 = dfb[[\"Dead\"]]\n",
    "dfc1 = dfc[[\"Dead\"]]\n",
    "dfd1 = dfd[[\"Dead\"]]\n",
    "dfe1 = dfe[[\"Dead\"]]\n",
    "dfe1\n",
    "\n",
    "T1 = list(np.array(dfa1.iloc[:, 0]))\n",
    "T2 = list(np.array(dfb1.iloc[:, 0]))\n",
    "T3 = list(np.array(dfc1.iloc[:, 0]))\n",
    "T4 = list(np.array(dfd1.iloc[:, 0]))\n",
    "TIS = list(np.array(dfe1.iloc[:, 0]))\n",
    "\n",
    "data_a = [T1,T2,T3,T4,TIS]\n",
    "fig = plt.figure(figsize =(10, 7))\n",
    " \n",
    "# Creating axes instance\n",
    "ax = fig.add_axes([0, 0, 1, 1])\n",
    " \n",
    "# Creating plot\n",
    "bp = ax.boxplot(data_a, positions=np.array(range(len(data_a)))*2.0-0.1, sym='', widths=0.6)\n",
    "plt.ylabel(\"Normalized count of cells\", fontsize=22)\n",
    "plt.xlabel(\"Different clinical stages for the cell type Dead\", fontsize=16)\n",
    "plt.xticks(range(0, len(ticks) * 2, 2), ticks, fontsize=14)\n",
    "plt.xlim(-2, len(ticks)*2)\n",
    "# show plot\n",
    "plt.show()\n"
   ]
  },
  {
   "cell_type": "code",
   "execution_count": null,
   "id": "002ff86f",
   "metadata": {},
   "outputs": [],
   "source": []
  },
  {
   "cell_type": "code",
   "execution_count": 62,
   "id": "d20c7ef1",
   "metadata": {},
   "outputs": [
    {
     "data": {
      "image/png": "[encoded data removed]",
      "text/plain": [
       "<Figure size 720x504 with 1 Axes>"
      ]
     },
     "metadata": {
      "needs_background": "light"
     },
     "output_type": "display_data"
    }
   ],
   "source": [
    "import numpy as np\n",
    "dfa1 = dfa[[\"Non-Neoplastic Epithelial\"]]\n",
    "dfb1 = dfb[[\"Non-Neoplastic Epithelial\"]]\n",
    "dfc1 = dfc[[\"Non-Neoplastic Epithelial\"]]\n",
    "dfd1 = dfd[[\"Non-Neoplastic Epithelial\"]]\n",
    "dfe1 = dfe[[\"Non-Neoplastic Epithelial\"]]\n",
    "dfe1\n",
    "\n",
    "T1 = list(np.array(dfa1.iloc[:, 0]))\n",
    "T2 = list(np.array(dfb1.iloc[:, 0]))\n",
    "T3 = list(np.array(dfc1.iloc[:, 0]))\n",
    "T4 = list(np.array(dfd1.iloc[:, 0]))\n",
    "TIS = list(np.array(dfe1.iloc[:, 0]))\n",
    "\n",
    "data_a = [T1,T2,T3,T4,TIS]\n",
    "fig = plt.figure(figsize =(10, 7))\n",
    " \n",
    "# Creating axes instance\n",
    "ax = fig.add_axes([0, 0, 1, 1])\n",
    " \n",
    "# Creating plot\n",
    "bp = ax.boxplot(data_a, positions=np.array(range(len(data_a)))*2.0-0.1, sym='', widths=0.6)\n",
    "plt.ylabel(\"Normalized count of cells\", fontsize=22)\n",
    "plt.xlabel(\"Different clinical stages for the cell type Non-Neoplastic Epithelial\", fontsize=16)\n",
    "plt.xticks(range(0, len(ticks) * 2, 2), ticks, fontsize=14)\n",
    "plt.xlim(-2, len(ticks)*2)\n",
    "# show plot\n",
    "plt.show()\n"
   ]
  },
  {
   "cell_type": "code",
   "execution_count": null,
   "id": "9d96b215",
   "metadata": {},
   "outputs": [],
   "source": []
  }
 ],
 "metadata": {
  "kernelspec": {
   "display_name": "Python [conda env:hovernet]",
   "language": "python",
   "name": "conda-env-hovernet-py"
  },
  "language_info": {
   "codemirror_mode": {
    "name": "ipython",
    "version": 3
   },
   "file_extension": ".py",
   "mimetype": "text/x-python",
   "name": "python",
   "nbconvert_exporter": "python",
   "pygments_lexer": "ipython3",
   "version": "3.6.12"
  }
 },
 "nbformat": 4,
 "nbformat_minor": 5
}
